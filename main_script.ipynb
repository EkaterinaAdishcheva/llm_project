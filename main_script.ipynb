{
 "cells": [
  {
   "cell_type": "markdown",
   "metadata": {},
   "source": [
    "### Prepare raw data\n",
    "\n",
    "Download html files from site"
   ]
  },
  {
   "cell_type": "code",
   "execution_count": 1,
   "metadata": {},
   "outputs": [],
   "source": [
    "#!wget -r -k -l 7 -p -E -nc https://povar.ru/ratingCountratingCount\n",
    "#!rm -rf ./chroma_db"
   ]
  },
  {
   "cell_type": "markdown",
   "metadata": {},
   "source": [
    "### Scrap data"
   ]
  },
  {
   "cell_type": "code",
   "execution_count": 2,
   "metadata": {},
   "outputs": [
    {
     "name": "stderr",
     "output_type": "stream",
     "text": [
      "/workspace/Recipes/rec_proj_venv/lib/python3.10/site-packages/fuzzywuzzy/fuzz.py:11: UserWarning: Using slow pure-python SequenceMatcher. Install python-Levenshtein to remove this warning\n",
      "  warnings.warn('Using slow pure-python SequenceMatcher. Install python-Levenshtein to remove this warning')\n",
      "[nltk_data] Downloading package stopwords to /root/nltk_data...\n",
      "[nltk_data]   Package stopwords is already up-to-date!\n"
     ]
    }
   ],
   "source": [
    "from utils import make_data_set, read_recipes_pkl, save_recipes_pkl, make_recipes,filter_recipe\n",
    "from Recipe import Recipe, RecipesProject\n",
    "\n",
    "MAIN_DIR = \"/home/zaderu/Documents/MLHS/LLM Project/data/povar.ru/recipes/\"\n",
    "FILE_NAME = \"/workspace/llm_project/raw_recipes/povar_recipes.pickle\""
   ]
  },
  {
   "cell_type": "code",
   "execution_count": 3,
   "metadata": {},
   "outputs": [
    {
     "name": "stdout",
     "output_type": "stream",
     "text": [
      "Collected 66349 recipes\n"
     ]
    }
   ],
   "source": [
    "# povar_recipes = make_data_set(MAIN_DIR)\n",
    "# save_recipes_pkl(povar_recipes, FILE_NAME)\n",
    "\n",
    "povar_recipes = read_recipes_pkl(FILE_NAME)"
   ]
  },
  {
   "cell_type": "code",
   "execution_count": 4,
   "metadata": {},
   "outputs": [
    {
     "name": "stdout",
     "output_type": "stream",
     "text": [
      "Total 66349 recipes is processed.\n",
      "16052 recipes is selected.\n"
     ]
    }
   ],
   "source": [
    "recipes_list = make_recipes(povar_recipes, output_file=\"./Recipe_recipes.pickle\")\n",
    "recipes_list = filter_recipe(recipes_list, max_steps = 10, max_min=120, min_rating=4.3, min_votes=5)"
   ]
  },
  {
   "cell_type": "code",
   "execution_count": 5,
   "metadata": {},
   "outputs": [],
   "source": [
    "# # Chroma DB\n",
    "\n",
    "# from build_chroma_db import build_chroma_db, requst_chroma_db\n",
    "# import torch\n",
    "\n",
    "# device = \"cuda\" if torch.cuda.is_available() else \"cpu\"\n",
    "# vector_store, tokenizer = build_chroma_db(\n",
    "#     recipes_list,\n",
    "#     embedding_model=\"ai-forever/sbert_large_nlu_ru\", #\"nomic-ai/nomic-embed-text-v1.5\", #\"IlyaGusev/saiga_yandexgpt_8b\" \n",
    "#     device=device,\n",
    "# )"
   ]
  },
  {
   "cell_type": "code",
   "execution_count": 6,
   "metadata": {},
   "outputs": [],
   "source": [
    "### Knowledge graph\n",
    "\n",
    "from build_knowledge_graph import make_tags_list, lemmatize_tags, build_knowledge_graph\\\n",
    "    , lemmatize, lemmatize_sentance, make_one_word_tags_list\n",
    "\n",
    "tags = make_tags_list(recipes_list)\n",
    "\n",
    "lemmatize_tags(tags)\n",
    "\n",
    "one_word_tags = make_one_word_tags_list(tags)"
   ]
  },
  {
   "cell_type": "code",
   "execution_count": 7,
   "metadata": {},
   "outputs": [],
   "source": [
    "G = build_knowledge_graph(recipes_list, tags)"
   ]
  },
  {
   "cell_type": "code",
   "execution_count": 8,
   "metadata": {},
   "outputs": [],
   "source": [
    "rp = RecipesProject(resipes=recipes_list, knowledgeGraph=G, tags=tags, vectorStore=None, oneWordTags=one_word_tags)\n",
    "# rp.add_resipes_list(recipes_list)\n",
    "# rp.add_knowledge_graph(G)\n",
    "# rp.add_tags(tags)\n",
    "# rp.add_one_word_tags(one_word_tags)"
   ]
  },
  {
   "cell_type": "code",
   "execution_count": 9,
   "metadata": {},
   "outputs": [
    {
     "data": {
      "text/plain": [
       "4"
      ]
     },
     "execution_count": 9,
     "metadata": {},
     "output_type": "execute_result"
    }
   ],
   "source": [
    "max_len = 0\n",
    "for tag in tags:\n",
    "    if len(tags[tag]['lemma']) > max_len:\n",
    "        max_len = len(tags[tag]['lemma'])\n",
    "max_len # longest tag"
   ]
  },
  {
   "cell_type": "markdown",
   "metadata": {},
   "source": [
    "### Queries"
   ]
  },
  {
   "cell_type": "code",
   "execution_count": 23,
   "metadata": {},
   "outputs": [
    {
     "data": {
      "text/plain": [
       "['детский', 'мясо']"
      ]
     },
     "execution_count": 23,
     "metadata": {},
     "output_type": "execute_result"
    }
   ],
   "source": [
    "from build_knowledge_graph import enreach_query_with_relative_tags\n",
    "\n",
    "query = \"Пирог с яблоками и творожной начинкой\"\n",
    "query = \"что приготовить детского мясного\"\n",
    "\n",
    "enreach_query_with_relative_tags(query, one_word_tags, )\n",
    "\n",
    "#Убрать ризотто"
   ]
  },
  {
   "cell_type": "code",
   "execution_count": 24,
   "metadata": {},
   "outputs": [
    {
     "name": "stdout",
     "output_type": "stream",
     "text": [
      "New tags are added: детский мясо\n",
      " Tag (('мясо', {'stat': 2861, 'lemma': ('мясо',)})) is applied. Selected 2750 recipes\n",
      " Tag (('к мясу', {'stat': 74, 'lemma': ('мясо',)})) is applied. Selected 2750 recipes\n",
      " Tag (('детский', {'stat': 2074, 'lemma': ('детский',)})) is applied. Selected 94 recipes\n"
     ]
    },
    {
     "data": {
      "text/plain": [
       "94"
      ]
     },
     "execution_count": 24,
     "metadata": {},
     "output_type": "execute_result"
    }
   ],
   "source": [
    "answer = rp.invoke(query, verbose=True)\n",
    "len(answer[0])"
   ]
  },
  {
   "cell_type": "code",
   "execution_count": 25,
   "metadata": {},
   "outputs": [
    {
     "name": "stdout",
     "output_type": "stream",
     "text": [
      "Сосиски в кляре \"Осьминожки\"\n",
      "Котлеты под шубой\n",
      "Гуляш из печени со сметаной\n",
      "Фаршированные блины с мясом\n",
      "Ежики в сливочном соусе\n",
      "Блинчики с ливером\n",
      "Слойки с сыром и сосисками\n",
      "Тефтели в томатно-сливочном соусе\n",
      "Караимские пирожки\n",
      "Маленькие бутерброды для детей\n",
      "Суп с фрикадельками без картошки\n",
      "Сосиски в лаваше жареные\n",
      "Зразы из фарша в духовке\n",
      "Котлеты в тесте в духовке\n",
      "Пицца для детей (простой рецепт)\n",
      "Слойки с ветчиной и сыром\n",
      "Тефтели с картофелем\n",
      "Суп с фрикадельками в мультиварке\n",
      "Гречневая каша по-купечески\n",
      "Пюре из мяса для ребенка\n",
      "Клубный сэндвич\n",
      "\"Волосатые\" сосиски\n",
      "Котлеты с начинкой\n",
      "Фрикадельки для детей\n",
      "Картофельная запеканка классическая\n",
      "Запеканка из вермишели с фаршем\n",
      "Подлива для тефтелей\n",
      "Запеканка картофельная под горчичным соусом\n",
      "Булочки со свининой\n",
      "Простые бутерброды\n",
      "Ежики с гречкой\n",
      "Тесто для пирожков с сосиской\n",
      "Шашлык из сосисок\n",
      "Бутерброды на день рождения ребенка\n",
      "Котлеты по-флотски\n",
      "Закуска \"Крабик\"\n",
      "Суп с фрикадельками и картошкой\n",
      "Сардельки в слоеном тесте в духовке\n",
      "Печёночные оладьи как в детском саду\n",
      "Печеночные биточки\n",
      "Картофельная бабка с фаршем\n",
      "Ветчина на шпажках\n",
      "Лапша с сосисками\n",
      "Митболы из киноа и говядины\n",
      "Cуфле из говядины для ребенка\n",
      "Форшмак, запеченный в духовке\n",
      "Котлетки \"Черепашки\"\n",
      "Богатырская каша\n",
      "Тефтели с овощами в сливках.\n",
      "Сосиска в тесте с картошкой\n",
      "Мясная запеканка для детей\n",
      "Тефтели, как в детском садике\n",
      "Ежики с подливкой\n",
      "Канапе с сыром и колбасой\n",
      "Котлеты из говядины с творогом\n",
      "Бутерброды с колбасой на сковороде\n",
      "Перловка с мясом\n",
      "Запеченные блины с сосисками\n",
      "Печеночные котлеты для детей от 1 года\n",
      "Корн-дог\n",
      "Канапе для праздничного стола\n",
      "Закуска из фарша\n",
      "Суп с булгуром и фрикадельками\n",
      "Вермишель с сосиской\n",
      "Фрикадельки для детей от года\n",
      "Фрикадельки с пармезаном и миндалем\n",
      "Пюре с тушенкой\n",
      "\"Походный\" бутерброд\n",
      "Шпинат с беконом\n",
      "Суп с фрикадельками (ленивый)\n",
      "Рассольник из куриных потрошков\n",
      "Гавайская пицца\n",
      "Печеночное суфле для детей\n",
      "Суп с фрикадельками для детей\n",
      "Перевернутая пицца в стакане\n",
      "Мясные вафли\n",
      "Тефтели (классический рецепт)\n",
      "Биточки под соусом\n",
      "Бычьи яйца\n",
      "Печеночный пирог с морковью и луком\n",
      "Котлеты на пару для детей\n",
      "\"Чизбургер\"-палочки с моцареллой\n",
      "Слоеные пирожки с ветчиной и сыром\n",
      "Мясная запеканка, как в детском садике\n",
      "Тандыр Самса\n",
      "Пирожки с сосисками и сыром\n",
      "Сэндвич с ветчиной и сыром\n",
      "Котлеты мясные на пару\n",
      "Гренки с ветчиной и сыром\n",
      "Детские бутерброды\n",
      "Сырная улитка\n",
      "Пирог \"Ленивец\"\n",
      "Картофляники\n",
      "Маффины с сосисками\n",
      "Сосиски в кляре \"Осьминожки\"\n",
      "Котлеты под шубой\n",
      "Гуляш из печени со сметаной\n",
      "Фаршированные блины с мясом\n",
      "Ежики в сливочном соусе\n",
      "Блинчики с ливером\n",
      "Слойки с сыром и сосисками\n",
      "Тефтели в томатно-сливочном соусе\n",
      "Караимские пирожки\n",
      "Маленькие бутерброды для детей\n",
      "Суп с фрикадельками без картошки\n",
      "Сосиски в лаваше жареные\n",
      "Зразы из фарша в духовке\n",
      "Котлеты в тесте в духовке\n",
      "Пицца для детей (простой рецепт)\n",
      "Слойки с ветчиной и сыром\n",
      "Тефтели с картофелем\n",
      "Суп с фрикадельками в мультиварке\n",
      "Гречневая каша по-купечески\n",
      "Пюре из мяса для ребенка\n",
      "Клубный сэндвич\n",
      "\"Волосатые\" сосиски\n",
      "Котлеты с начинкой\n",
      "Фрикадельки для детей\n",
      "Картофельная запеканка классическая\n",
      "Запеканка из вермишели с фаршем\n",
      "Подлива для тефтелей\n",
      "Запеканка картофельная под горчичным соусом\n",
      "Булочки со свининой\n",
      "Простые бутерброды\n",
      "Ежики с гречкой\n",
      "Тесто для пирожков с сосиской\n",
      "Шашлык из сосисок\n",
      "Бутерброды на день рождения ребенка\n",
      "Котлеты по-флотски\n",
      "Закуска \"Крабик\"\n",
      "Суп с фрикадельками и картошкой\n",
      "Сардельки в слоеном тесте в духовке\n",
      "Печёночные оладьи как в детском саду\n",
      "Печеночные биточки\n",
      "Картофельная бабка с фаршем\n",
      "Ветчина на шпажках\n",
      "Лапша с сосисками\n",
      "Митболы из киноа и говядины\n",
      "Cуфле из говядины для ребенка\n",
      "Форшмак, запеченный в духовке\n",
      "Котлетки \"Черепашки\"\n",
      "Богатырская каша\n",
      "Тефтели с овощами в сливках.\n",
      "Сосиска в тесте с картошкой\n",
      "Мясная запеканка для детей\n",
      "Тефтели, как в детском садике\n",
      "Ежики с подливкой\n",
      "Канапе с сыром и колбасой\n",
      "Котлеты из говядины с творогом\n",
      "Бутерброды с колбасой на сковороде\n",
      "Перловка с мясом\n",
      "Запеченные блины с сосисками\n",
      "Печеночные котлеты для детей от 1 года\n",
      "Корн-дог\n",
      "Канапе для праздничного стола\n",
      "Закуска из фарша\n",
      "Суп с булгуром и фрикадельками\n",
      "Вермишель с сосиской\n",
      "Фрикадельки для детей от года\n",
      "Фрикадельки с пармезаном и миндалем\n",
      "Пюре с тушенкой\n",
      "\"Походный\" бутерброд\n",
      "Шпинат с беконом\n",
      "Суп с фрикадельками (ленивый)\n",
      "Рассольник из куриных потрошков\n",
      "Гавайская пицца\n",
      "Печеночное суфле для детей\n",
      "Суп с фрикадельками для детей\n",
      "Перевернутая пицца в стакане\n",
      "Мясные вафли\n",
      "Тефтели (классический рецепт)\n",
      "Биточки под соусом\n",
      "Бычьи яйца\n",
      "Печеночный пирог с морковью и луком\n",
      "Котлеты на пару для детей\n",
      "\"Чизбургер\"-палочки с моцареллой\n",
      "Слоеные пирожки с ветчиной и сыром\n",
      "Мясная запеканка, как в детском садике\n",
      "Тандыр Самса\n",
      "Пирожки с сосисками и сыром\n",
      "Сэндвич с ветчиной и сыром\n",
      "Котлеты мясные на пару\n",
      "Гренки с ветчиной и сыром\n",
      "Детские бутерброды\n",
      "Сырная улитка\n",
      "Пирог \"Ленивец\"\n",
      "Картофляники\n",
      "Маффины с сосисками\n"
     ]
    }
   ],
   "source": [
    "for a in answer[0]:\n",
    "    print(rp.knowledgeGraph.nodes[a]['name'])\n",
    "for a in answer[1]:\n",
    "    print(rp.knowledgeGraph.nodes[a]['name'])    "
   ]
  },
  {
   "cell_type": "code",
   "execution_count": 19,
   "metadata": {},
   "outputs": [
    {
     "ename": "NameError",
     "evalue": "name 'requst_chroma_db' is not defined",
     "output_type": "error",
     "traceback": [
      "\u001b[0;31m---------------------------------------------------------------------------\u001b[0m",
      "\u001b[0;31mNameError\u001b[0m                                 Traceback (most recent call last)",
      "Cell \u001b[0;32mIn[19], line 1\u001b[0m\n\u001b[0;32m----> 1\u001b[0m results \u001b[38;5;241m=\u001b[39m \u001b[43mrequst_chroma_db\u001b[49m(vector_store, tokenizer, recipes_list[\u001b[38;5;241m1000\u001b[39m]\u001b[38;5;241m.\u001b[39mdocument\u001b[38;5;241m.\u001b[39mpage_content, device)\n\u001b[1;32m      3\u001b[0m \u001b[38;5;28;01mfor\u001b[39;00m res \u001b[38;5;129;01min\u001b[39;00m results:\n\u001b[1;32m      4\u001b[0m     \u001b[38;5;28mprint\u001b[39m(\u001b[38;5;124mf\u001b[39m\u001b[38;5;124m\"\u001b[39m\u001b[38;5;124mНайди \u001b[39m\u001b[38;5;132;01m{\u001b[39;00mrecipes_list[\u001b[38;5;241m1000\u001b[39m]\u001b[38;5;241m.\u001b[39mdocument\u001b[38;5;241m.\u001b[39mpage_content[:\u001b[38;5;241m50\u001b[39m]\u001b[38;5;132;01m}\u001b[39;00m\u001b[38;5;130;01m\\n\u001b[39;00m\u001b[38;5;124m \u001b[39m\u001b[38;5;132;01m{\u001b[39;00mres\u001b[38;5;241m.\u001b[39mmetadata[\u001b[38;5;124m'\u001b[39m\u001b[38;5;124mname\u001b[39m\u001b[38;5;124m'\u001b[39m]\u001b[38;5;132;01m}\u001b[39;00m\u001b[38;5;130;01m\\n\u001b[39;00m\u001b[38;5;132;01m{\u001b[39;00mres\u001b[38;5;241m.\u001b[39mpage_content\u001b[38;5;132;01m}\u001b[39;00m\u001b[38;5;124m [\u001b[39m\u001b[38;5;132;01m{\u001b[39;00mres\u001b[38;5;241m.\u001b[39mmetadata\u001b[38;5;132;01m}\u001b[39;00m\u001b[38;5;124m]\u001b[39m\u001b[38;5;130;01m\\n\u001b[39;00m\u001b[38;5;130;01m\\n\u001b[39;00m\u001b[38;5;130;01m\\n\u001b[39;00m\u001b[38;5;130;01m\\n\u001b[39;00m\u001b[38;5;124m\"\u001b[39m)\n",
      "\u001b[0;31mNameError\u001b[0m: name 'requst_chroma_db' is not defined"
     ]
    }
   ],
   "source": [
    "results = requst_chroma_db(vector_store, tokenizer, recipes_list[1000].document.page_content, device)\n",
    "\n",
    "for res in results:\n",
    "    print(f\"Найди {recipes_list[1000].document.page_content[:50]}\\n {res.metadata['name']}\\n{res.page_content} [{res.metadata}]\\n\\n\\n\\n\")"
   ]
  },
  {
   "cell_type": "code",
   "execution_count": null,
   "metadata": {},
   "outputs": [],
   "source": []
  }
 ],
 "metadata": {
  "kernelspec": {
   "display_name": "Python (rec_proj_venv)",
   "language": "python",
   "name": "rec_proj_venv"
  },
  "language_info": {
   "codemirror_mode": {
    "name": "ipython",
    "version": 3
   },
   "file_extension": ".py",
   "mimetype": "text/x-python",
   "name": "python",
   "nbconvert_exporter": "python",
   "pygments_lexer": "ipython3",
   "version": "3.10.12"
  }
 },
 "nbformat": 4,
 "nbformat_minor": 4
}
