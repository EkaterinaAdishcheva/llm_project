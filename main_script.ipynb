{
 "cells": [
  {
   "cell_type": "markdown",
   "metadata": {},
   "source": [
    "### Prepare raw data\n",
    "\n",
    "Download html files from site"
   ]
  },
  {
   "cell_type": "code",
   "execution_count": 1,
   "metadata": {},
   "outputs": [],
   "source": [
    "#!wget -r -k -l 7 -p -E -nc https://povar.ru/"
   ]
  },
  {
   "cell_type": "markdown",
   "metadata": {},
   "source": [
    "### Scrap data"
   ]
  },
  {
   "cell_type": "code",
   "execution_count": 2,
   "metadata": {},
   "outputs": [
    {
     "name": "stderr",
     "output_type": "stream",
     "text": [
      "/home/zaderu/Documents/MLHS/LLM Project/PovarRecipes/build_knowledge_graph.py:22: SyntaxWarning: invalid escape sequence '\\]'\n",
      "  patterns = \"[A-Za-z0-9!#$%&'()*+,./:;<=>?@[\\]^_`{|}~—\\\"\\-]+\"\n"
     ]
    }
   ],
   "source": [
    "from utils import make_data_set, read_recipes_pkl, save_recipes_pkl, make_recipes\n",
    "from Recipe import Recipe, RecipesProgect\n",
    "\n",
    "MAIN_DIR = \"/home/zaderu/Documents/MLHS/LLM Project/data/povar.ru/recipes/\"\n",
    "FILE_NAME = \"./recipes/povar_recipes.pickle\""
   ]
  },
  {
   "cell_type": "code",
   "execution_count": 3,
   "metadata": {},
   "outputs": [],
   "source": [
    "# povar_recipes = make_data_set(MAIN_DIR)\n",
    "# save_recipes_pkl(povar_recipes, FILE_NAME)\n",
    "\n",
    "povar_recipes = read_recipes_pkl(FILE_NAME)\n"
   ]
  },
  {
   "cell_type": "code",
   "execution_count": 4,
   "metadata": {},
   "outputs": [
    {
     "name": "stdout",
     "output_type": "stream",
     "text": [
      "Total 25695 recipes is picked up\n"
     ]
    }
   ],
   "source": [
    "recipes_list = make_recipes(povar_recipes, output_file=\"./recipes/Recipe_recipes.pickle\")"
   ]
  },
  {
   "cell_type": "code",
   "execution_count": null,
   "metadata": {},
   "outputs": [],
   "source": [
    "# from build_chroma_db import build_chroma_db\n",
    "\n",
    "# build_chroma_db(\n",
    "#     recipes_list[:10],\n",
    "#     embedding_model=\"nomic-ai/nomic-embed-text-v1.5\",\n",
    "#     device='cpu',\n",
    "# )"
   ]
  },
  {
   "cell_type": "markdown",
   "metadata": {},
   "source": []
  },
  {
   "cell_type": "code",
   "execution_count": null,
   "metadata": {},
   "outputs": [],
   "source": [
    "from build_knowledge_graph import make_tags_list, lemmatize_tags, build_knowledge_graph, lemmatize, lemmatize_sentance\n",
    "\n",
    "tags = make_tags_list(recipes_list)\n",
    "lemmatize_tags(tags)"
   ]
  },
  {
   "cell_type": "markdown",
   "metadata": {},
   "source": []
  },
  {
   "cell_type": "code",
   "execution_count": 7,
   "metadata": {},
   "outputs": [
    {
     "data": {
      "text/plain": [
       "4"
      ]
     },
     "execution_count": 7,
     "metadata": {},
     "output_type": "execute_result"
    }
   ],
   "source": [
    "max_len = 0\n",
    "for attr in tags:\n",
    "    for tag in tags[attr]:\n",
    "        if len(tags[attr][tag]['lemma']) > max_len:\n",
    "            max_len = len(tags[attr][tag]['lemma'])\n",
    "max_len"
   ]
  },
  {
   "cell_type": "code",
   "execution_count": null,
   "metadata": {},
   "outputs": [],
   "source": [
    "G = build_knowledge_graph(recipes_list, tags)"
   ]
  },
  {
   "cell_type": "code",
   "execution_count": 9,
   "metadata": {},
   "outputs": [],
   "source": [
    "rp = RecipesProgect()\n",
    "rp.add_resipes_list(recipes_list)\n",
    "rp.add_knowledge_graph(G)\n",
    "rp.add_tags(tags)"
   ]
  },
  {
   "cell_type": "code",
   "execution_count": 18,
   "metadata": {},
   "outputs": [
    {
     "data": {
      "text/plain": [
       "(1, 37)"
      ]
     },
     "execution_count": 18,
     "metadata": {},
     "output_type": "execute_result"
    }
   ],
   "source": [
    "querry = \"что приготовить детского из яблок и груш и мяса\"\n",
    "answer = rp.invoke(querry)\n",
    "len(answer[0]), len(answer[1])"
   ]
  },
  {
   "cell_type": "code",
   "execution_count": null,
   "metadata": {},
   "outputs": [
    {
     "name": "stdout",
     "output_type": "stream",
     "text": [
      "Салат \"Ералаш\" классический\n"
     ]
    }
   ],
   "source": [
    "for a in answer[0]:\n",
    "    print(rp.knowledgeGraph.nodes[a]['name'])\n",
    "for a in answer[1]:\n",
    "    print(rp.knowledgeGraph.nodes[a]['name'])    "
   ]
  },
  {
   "cell_type": "code",
   "execution_count": null,
   "metadata": {},
   "outputs": [],
   "source": []
  }
 ],
 "metadata": {
  "kernelspec": {
   "display_name": "llm_venv",
   "language": "python",
   "name": "python3"
  },
  "language_info": {
   "codemirror_mode": {
    "name": "ipython",
    "version": 3
   },
   "file_extension": ".py",
   "mimetype": "text/x-python",
   "name": "python",
   "nbconvert_exporter": "python",
   "pygments_lexer": "ipython3",
   "version": "3.12.3"
  }
 },
 "nbformat": 4,
 "nbformat_minor": 2
}
